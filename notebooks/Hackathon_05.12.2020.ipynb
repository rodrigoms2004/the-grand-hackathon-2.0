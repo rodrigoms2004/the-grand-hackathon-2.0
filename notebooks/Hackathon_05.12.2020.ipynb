{
 "cells": [
  {
   "cell_type": "code",
   "execution_count": 34,
   "metadata": {
    "colab": {
     "base_uri": "https://localhost:8080/"
    },
    "id": "p3UHn_HYAGI5",
    "outputId": "9162b192-4d61-498f-8620-936217b4b4fd"
   },
   "outputs": [],
   "source": [
    "import matplotlib.pyplot as plt                                 # low level visualization library\n",
    "import seaborn as sns                                           # higher level visualization library compared to matplotlib\n",
    "%matplotlib inline\n",
    "\n",
    "from sklearn.model_selection import train_test_split            # library for splitting data before modeling \n",
    "from sklearn.linear_model import LinearRegression               # library with linear model for machine learning\n",
    "from sklearn.metrics import mean_absolute_error, r2_score       # library for metrics for evaluating results of the model\n",
    "from yellowbrick.regressor import ResidualsPlot                 # library for visualizing result of your model. Install through Anaconda terminal using: pip install yellowbrick\n",
    "\n",
    "import statsmodels.api as sm                                    # library with linear model for statistical inference    \n",
    "import pandas as pd\n",
    "import numpy as np\n",
    "\n",
    "from pandas_profiling import ProfileReport\n",
    "\n",
    "from sklearn.preprocessing import StandardScaler, RobustScaler, QuantileTransformer,PowerTransformer\n",
    "from sklearn.feature_selection import SelectKBest, f_regression\n",
    "from sklearn.decomposition import PCA\n",
    "from sklearn.linear_model import Ridge\n",
    "from sklearn.pipeline import Pipeline\n"
   ]
  },
  {
   "cell_type": "code",
   "execution_count": 2,
   "metadata": {
    "id": "HMwRaL3iA4e9"
   },
   "outputs": [],
   "source": [
    "# freqDmfeatureData =pd.read_csv('/content/drive/MyDrive/Colab Notebooks/Data/Hackathon/frequency_domain_features_train.csv')"
   ]
  },
  {
   "cell_type": "code",
   "execution_count": 3,
   "metadata": {
    "id": "5ml1oNH7HQKd"
   },
   "outputs": [],
   "source": [
    "# heartRateLinearData =pd.read_csv('/content/drive/MyDrive/Colab Notebooks/Data/Hackathon/heart_rate_non_linear_features_train.csv')"
   ]
  },
  {
   "cell_type": "code",
   "execution_count": 4,
   "metadata": {
    "id": "Ru3XmzpCHdJP"
   },
   "outputs": [],
   "source": [
    "# timeDomainFeatureData =pd.read_csv('/content/drive/MyDrive/Colab Notebooks/Data/Hackathon/time_domain_features_train.csv')"
   ]
  },
  {
   "cell_type": "code",
   "execution_count": 5,
   "metadata": {},
   "outputs": [],
   "source": [
    "freqDmfeatureData = pd.read_csv('../data/train_data/time_domain_features_train.csv')\n",
    "heartRateLinearData = pd.read_csv('../data/train_data/frequency_domain_features_train.csv')\n",
    "timeDomainFeatureData = pd.read_csv('../data/train_data/heart_rate_non_linear_features_train.csv')"
   ]
  },
  {
   "cell_type": "code",
   "execution_count": 6,
   "metadata": {
    "colab": {
     "base_uri": "https://localhost:8080/",
     "height": 195
    },
    "id": "3Uzcr-N4A8cp",
    "outputId": "862c8fc1-03e0-4e18-e7bf-1f0107858d90"
   },
   "outputs": [
    {
     "data": {
      "text/html": [
       "<div>\n",
       "<style scoped>\n",
       "    .dataframe tbody tr th:only-of-type {\n",
       "        vertical-align: middle;\n",
       "    }\n",
       "\n",
       "    .dataframe tbody tr th {\n",
       "        vertical-align: top;\n",
       "    }\n",
       "\n",
       "    .dataframe thead th {\n",
       "        text-align: right;\n",
       "    }\n",
       "</style>\n",
       "<table border=\"1\" class=\"dataframe\">\n",
       "  <thead>\n",
       "    <tr style=\"text-align: right;\">\n",
       "      <th></th>\n",
       "      <th>MEAN_RR</th>\n",
       "      <th>MEDIAN_RR</th>\n",
       "      <th>SDRR</th>\n",
       "      <th>RMSSD</th>\n",
       "      <th>SDSD</th>\n",
       "      <th>SDRR_RMSSD</th>\n",
       "      <th>HR</th>\n",
       "      <th>pNN25</th>\n",
       "      <th>pNN50</th>\n",
       "      <th>KURT</th>\n",
       "      <th>SKEW</th>\n",
       "      <th>MEAN_REL_RR</th>\n",
       "      <th>MEDIAN_REL_RR</th>\n",
       "      <th>SDRR_REL_RR</th>\n",
       "      <th>RMSSD_REL_RR</th>\n",
       "      <th>SDSD_REL_RR</th>\n",
       "      <th>SDRR_RMSSD_REL_RR</th>\n",
       "      <th>KURT_REL_RR</th>\n",
       "      <th>SKEW_REL_RR</th>\n",
       "      <th>uuid</th>\n",
       "    </tr>\n",
       "  </thead>\n",
       "  <tbody>\n",
       "    <tr>\n",
       "      <th>0</th>\n",
       "      <td>885.157845</td>\n",
       "      <td>853.763730</td>\n",
       "      <td>140.972741</td>\n",
       "      <td>15.554505</td>\n",
       "      <td>15.553371</td>\n",
       "      <td>9.063146</td>\n",
       "      <td>69.499952</td>\n",
       "      <td>11.133333</td>\n",
       "      <td>0.533333</td>\n",
       "      <td>-0.856554</td>\n",
       "      <td>0.335218</td>\n",
       "      <td>-0.000203</td>\n",
       "      <td>-0.000179</td>\n",
       "      <td>0.017080</td>\n",
       "      <td>0.007969</td>\n",
       "      <td>0.007969</td>\n",
       "      <td>2.143342</td>\n",
       "      <td>-0.856554</td>\n",
       "      <td>0.335218</td>\n",
       "      <td>89df2855-56eb-4706-a23b-b39363dd605a</td>\n",
       "    </tr>\n",
       "    <tr>\n",
       "      <th>1</th>\n",
       "      <td>939.425371</td>\n",
       "      <td>948.357865</td>\n",
       "      <td>81.317742</td>\n",
       "      <td>12.964439</td>\n",
       "      <td>12.964195</td>\n",
       "      <td>6.272369</td>\n",
       "      <td>64.363150</td>\n",
       "      <td>5.600000</td>\n",
       "      <td>0.000000</td>\n",
       "      <td>-0.408190</td>\n",
       "      <td>-0.155286</td>\n",
       "      <td>-0.000059</td>\n",
       "      <td>0.000611</td>\n",
       "      <td>0.013978</td>\n",
       "      <td>0.004769</td>\n",
       "      <td>0.004769</td>\n",
       "      <td>2.930855</td>\n",
       "      <td>-0.408190</td>\n",
       "      <td>-0.155286</td>\n",
       "      <td>80c795e4-aa56-4cc0-939c-19634b89cbb2</td>\n",
       "    </tr>\n",
       "    <tr>\n",
       "      <th>2</th>\n",
       "      <td>898.186047</td>\n",
       "      <td>907.006860</td>\n",
       "      <td>84.497236</td>\n",
       "      <td>16.305279</td>\n",
       "      <td>16.305274</td>\n",
       "      <td>5.182201</td>\n",
       "      <td>67.450066</td>\n",
       "      <td>13.066667</td>\n",
       "      <td>0.200000</td>\n",
       "      <td>0.351789</td>\n",
       "      <td>-0.656813</td>\n",
       "      <td>-0.000011</td>\n",
       "      <td>-0.000263</td>\n",
       "      <td>0.018539</td>\n",
       "      <td>0.008716</td>\n",
       "      <td>0.008716</td>\n",
       "      <td>2.127053</td>\n",
       "      <td>0.351789</td>\n",
       "      <td>-0.656813</td>\n",
       "      <td>c2d5d102-967c-487d-88f2-8b005a449f3e</td>\n",
       "    </tr>\n",
       "    <tr>\n",
       "      <th>3</th>\n",
       "      <td>881.757865</td>\n",
       "      <td>893.460030</td>\n",
       "      <td>90.370537</td>\n",
       "      <td>15.720468</td>\n",
       "      <td>15.720068</td>\n",
       "      <td>5.748591</td>\n",
       "      <td>68.809562</td>\n",
       "      <td>11.800000</td>\n",
       "      <td>0.133333</td>\n",
       "      <td>-0.504947</td>\n",
       "      <td>-0.386138</td>\n",
       "      <td>0.000112</td>\n",
       "      <td>0.000494</td>\n",
       "      <td>0.017761</td>\n",
       "      <td>0.008660</td>\n",
       "      <td>0.008660</td>\n",
       "      <td>2.050988</td>\n",
       "      <td>-0.504947</td>\n",
       "      <td>-0.386138</td>\n",
       "      <td>37eabc44-1349-4040-8896-0d113ad4811f</td>\n",
       "    </tr>\n",
       "    <tr>\n",
       "      <th>4</th>\n",
       "      <td>809.625331</td>\n",
       "      <td>811.184865</td>\n",
       "      <td>62.766242</td>\n",
       "      <td>19.213819</td>\n",
       "      <td>19.213657</td>\n",
       "      <td>3.266724</td>\n",
       "      <td>74.565728</td>\n",
       "      <td>20.200000</td>\n",
       "      <td>0.200000</td>\n",
       "      <td>-0.548408</td>\n",
       "      <td>-0.154252</td>\n",
       "      <td>-0.000100</td>\n",
       "      <td>-0.002736</td>\n",
       "      <td>0.023715</td>\n",
       "      <td>0.013055</td>\n",
       "      <td>0.013055</td>\n",
       "      <td>1.816544</td>\n",
       "      <td>-0.548408</td>\n",
       "      <td>-0.154252</td>\n",
       "      <td>aa777a6a-7aa3-4f6e-aced-70f8691dd2b7</td>\n",
       "    </tr>\n",
       "  </tbody>\n",
       "</table>\n",
       "</div>"
      ],
      "text/plain": [
       "      MEAN_RR   MEDIAN_RR        SDRR      RMSSD       SDSD  SDRR_RMSSD  \\\n",
       "0  885.157845  853.763730  140.972741  15.554505  15.553371    9.063146   \n",
       "1  939.425371  948.357865   81.317742  12.964439  12.964195    6.272369   \n",
       "2  898.186047  907.006860   84.497236  16.305279  16.305274    5.182201   \n",
       "3  881.757865  893.460030   90.370537  15.720468  15.720068    5.748591   \n",
       "4  809.625331  811.184865   62.766242  19.213819  19.213657    3.266724   \n",
       "\n",
       "          HR      pNN25     pNN50      KURT      SKEW  MEAN_REL_RR  \\\n",
       "0  69.499952  11.133333  0.533333 -0.856554  0.335218    -0.000203   \n",
       "1  64.363150   5.600000  0.000000 -0.408190 -0.155286    -0.000059   \n",
       "2  67.450066  13.066667  0.200000  0.351789 -0.656813    -0.000011   \n",
       "3  68.809562  11.800000  0.133333 -0.504947 -0.386138     0.000112   \n",
       "4  74.565728  20.200000  0.200000 -0.548408 -0.154252    -0.000100   \n",
       "\n",
       "   MEDIAN_REL_RR  SDRR_REL_RR  RMSSD_REL_RR  SDSD_REL_RR  SDRR_RMSSD_REL_RR  \\\n",
       "0      -0.000179     0.017080      0.007969     0.007969           2.143342   \n",
       "1       0.000611     0.013978      0.004769     0.004769           2.930855   \n",
       "2      -0.000263     0.018539      0.008716     0.008716           2.127053   \n",
       "3       0.000494     0.017761      0.008660     0.008660           2.050988   \n",
       "4      -0.002736     0.023715      0.013055     0.013055           1.816544   \n",
       "\n",
       "   KURT_REL_RR  SKEW_REL_RR                                  uuid  \n",
       "0    -0.856554     0.335218  89df2855-56eb-4706-a23b-b39363dd605a  \n",
       "1    -0.408190    -0.155286  80c795e4-aa56-4cc0-939c-19634b89cbb2  \n",
       "2     0.351789    -0.656813  c2d5d102-967c-487d-88f2-8b005a449f3e  \n",
       "3    -0.504947    -0.386138  37eabc44-1349-4040-8896-0d113ad4811f  \n",
       "4    -0.548408    -0.154252  aa777a6a-7aa3-4f6e-aced-70f8691dd2b7  "
      ]
     },
     "execution_count": 6,
     "metadata": {},
     "output_type": "execute_result"
    }
   ],
   "source": [
    "freqDmfeatureData.head()"
   ]
  },
  {
   "cell_type": "code",
   "execution_count": 7,
   "metadata": {
    "colab": {
     "base_uri": "https://localhost:8080/"
    },
    "id": "PG-6U-OqJry3",
    "outputId": "6814821f-5094-45c1-95b3-491beb87d72c"
   },
   "outputs": [
    {
     "data": {
      "text/plain": [
       "(369289, 20)"
      ]
     },
     "execution_count": 7,
     "metadata": {},
     "output_type": "execute_result"
    }
   ],
   "source": [
    "freqDmfeatureData.shape"
   ]
  },
  {
   "cell_type": "code",
   "execution_count": 8,
   "metadata": {
    "colab": {
     "base_uri": "https://localhost:8080/",
     "height": 195
    },
    "id": "pANfprLsHMgS",
    "outputId": "45a2ffce-ed5c-4e94-f460-2430da94ebd5"
   },
   "outputs": [
    {
     "data": {
      "text/html": [
       "<div>\n",
       "<style scoped>\n",
       "    .dataframe tbody tr th:only-of-type {\n",
       "        vertical-align: middle;\n",
       "    }\n",
       "\n",
       "    .dataframe tbody tr th {\n",
       "        vertical-align: top;\n",
       "    }\n",
       "\n",
       "    .dataframe thead th {\n",
       "        text-align: right;\n",
       "    }\n",
       "</style>\n",
       "<table border=\"1\" class=\"dataframe\">\n",
       "  <thead>\n",
       "    <tr style=\"text-align: right;\">\n",
       "      <th></th>\n",
       "      <th>uuid</th>\n",
       "      <th>VLF</th>\n",
       "      <th>VLF_PCT</th>\n",
       "      <th>LF</th>\n",
       "      <th>LF_PCT</th>\n",
       "      <th>LF_NU</th>\n",
       "      <th>HF</th>\n",
       "      <th>HF_PCT</th>\n",
       "      <th>HF_NU</th>\n",
       "      <th>TP</th>\n",
       "      <th>LF_HF</th>\n",
       "      <th>HF_LF</th>\n",
       "    </tr>\n",
       "  </thead>\n",
       "  <tbody>\n",
       "    <tr>\n",
       "      <th>0</th>\n",
       "      <td>89df2855-56eb-4706-a23b-b39363dd605a</td>\n",
       "      <td>2661.894136</td>\n",
       "      <td>72.203287</td>\n",
       "      <td>1009.249419</td>\n",
       "      <td>27.375666</td>\n",
       "      <td>98.485263</td>\n",
       "      <td>15.522603</td>\n",
       "      <td>0.421047</td>\n",
       "      <td>1.514737</td>\n",
       "      <td>3686.666157</td>\n",
       "      <td>65.018055</td>\n",
       "      <td>0.015380</td>\n",
       "    </tr>\n",
       "    <tr>\n",
       "      <th>1</th>\n",
       "      <td>80c795e4-aa56-4cc0-939c-19634b89cbb2</td>\n",
       "      <td>2314.265450</td>\n",
       "      <td>76.975728</td>\n",
       "      <td>690.113275</td>\n",
       "      <td>22.954139</td>\n",
       "      <td>99.695397</td>\n",
       "      <td>2.108525</td>\n",
       "      <td>0.070133</td>\n",
       "      <td>0.304603</td>\n",
       "      <td>3006.487251</td>\n",
       "      <td>327.296635</td>\n",
       "      <td>0.003055</td>\n",
       "    </tr>\n",
       "    <tr>\n",
       "      <th>2</th>\n",
       "      <td>c2d5d102-967c-487d-88f2-8b005a449f3e</td>\n",
       "      <td>1373.887112</td>\n",
       "      <td>51.152225</td>\n",
       "      <td>1298.222619</td>\n",
       "      <td>48.335104</td>\n",
       "      <td>98.950472</td>\n",
       "      <td>13.769729</td>\n",
       "      <td>0.512671</td>\n",
       "      <td>1.049528</td>\n",
       "      <td>2685.879461</td>\n",
       "      <td>94.280910</td>\n",
       "      <td>0.010607</td>\n",
       "    </tr>\n",
       "    <tr>\n",
       "      <th>3</th>\n",
       "      <td>37eabc44-1349-4040-8896-0d113ad4811f</td>\n",
       "      <td>2410.357408</td>\n",
       "      <td>70.180308</td>\n",
       "      <td>1005.981659</td>\n",
       "      <td>29.290305</td>\n",
       "      <td>98.224706</td>\n",
       "      <td>18.181913</td>\n",
       "      <td>0.529387</td>\n",
       "      <td>1.775294</td>\n",
       "      <td>3434.520980</td>\n",
       "      <td>55.328701</td>\n",
       "      <td>0.018074</td>\n",
       "    </tr>\n",
       "    <tr>\n",
       "      <th>4</th>\n",
       "      <td>aa777a6a-7aa3-4f6e-aced-70f8691dd2b7</td>\n",
       "      <td>1151.177330</td>\n",
       "      <td>43.918366</td>\n",
       "      <td>1421.782051</td>\n",
       "      <td>54.242160</td>\n",
       "      <td>96.720007</td>\n",
       "      <td>48.215822</td>\n",
       "      <td>1.839473</td>\n",
       "      <td>3.279993</td>\n",
       "      <td>2621.175204</td>\n",
       "      <td>29.487873</td>\n",
       "      <td>0.033912</td>\n",
       "    </tr>\n",
       "  </tbody>\n",
       "</table>\n",
       "</div>"
      ],
      "text/plain": [
       "                                   uuid          VLF    VLF_PCT           LF  \\\n",
       "0  89df2855-56eb-4706-a23b-b39363dd605a  2661.894136  72.203287  1009.249419   \n",
       "1  80c795e4-aa56-4cc0-939c-19634b89cbb2  2314.265450  76.975728   690.113275   \n",
       "2  c2d5d102-967c-487d-88f2-8b005a449f3e  1373.887112  51.152225  1298.222619   \n",
       "3  37eabc44-1349-4040-8896-0d113ad4811f  2410.357408  70.180308  1005.981659   \n",
       "4  aa777a6a-7aa3-4f6e-aced-70f8691dd2b7  1151.177330  43.918366  1421.782051   \n",
       "\n",
       "      LF_PCT      LF_NU         HF    HF_PCT     HF_NU           TP  \\\n",
       "0  27.375666  98.485263  15.522603  0.421047  1.514737  3686.666157   \n",
       "1  22.954139  99.695397   2.108525  0.070133  0.304603  3006.487251   \n",
       "2  48.335104  98.950472  13.769729  0.512671  1.049528  2685.879461   \n",
       "3  29.290305  98.224706  18.181913  0.529387  1.775294  3434.520980   \n",
       "4  54.242160  96.720007  48.215822  1.839473  3.279993  2621.175204   \n",
       "\n",
       "        LF_HF     HF_LF  \n",
       "0   65.018055  0.015380  \n",
       "1  327.296635  0.003055  \n",
       "2   94.280910  0.010607  \n",
       "3   55.328701  0.018074  \n",
       "4   29.487873  0.033912  "
      ]
     },
     "execution_count": 8,
     "metadata": {},
     "output_type": "execute_result"
    }
   ],
   "source": [
    "heartRateLinearData.head()"
   ]
  },
  {
   "cell_type": "code",
   "execution_count": 9,
   "metadata": {
    "colab": {
     "base_uri": "https://localhost:8080/"
    },
    "id": "bjD8STrjJzub",
    "outputId": "107bb659-c67f-4483-bc86-c8eefe200435"
   },
   "outputs": [
    {
     "data": {
      "text/plain": [
       "(369289, 12)"
      ]
     },
     "execution_count": 9,
     "metadata": {},
     "output_type": "execute_result"
    }
   ],
   "source": [
    "heartRateLinearData.shape"
   ]
  },
  {
   "cell_type": "code",
   "execution_count": 10,
   "metadata": {
    "colab": {
     "base_uri": "https://localhost:8080/",
     "height": 467
    },
    "id": "oCiXwIySHpKE",
    "outputId": "a93342c7-a0c4-4232-d1a5-bdc12937e824"
   },
   "outputs": [
    {
     "data": {
      "text/html": [
       "<div>\n",
       "<style scoped>\n",
       "    .dataframe tbody tr th:only-of-type {\n",
       "        vertical-align: middle;\n",
       "    }\n",
       "\n",
       "    .dataframe tbody tr th {\n",
       "        vertical-align: top;\n",
       "    }\n",
       "\n",
       "    .dataframe thead th {\n",
       "        text-align: right;\n",
       "    }\n",
       "</style>\n",
       "<table border=\"1\" class=\"dataframe\">\n",
       "  <thead>\n",
       "    <tr style=\"text-align: right;\">\n",
       "      <th></th>\n",
       "      <th>uuid</th>\n",
       "      <th>SD1</th>\n",
       "      <th>SD2</th>\n",
       "      <th>sampen</th>\n",
       "      <th>higuci</th>\n",
       "      <th>datasetId</th>\n",
       "      <th>condition</th>\n",
       "    </tr>\n",
       "  </thead>\n",
       "  <tbody>\n",
       "    <tr>\n",
       "      <th>0</th>\n",
       "      <td>89df2855-56eb-4706-a23b-b39363dd605a</td>\n",
       "      <td>11.001565</td>\n",
       "      <td>199.061782</td>\n",
       "      <td>2.139754</td>\n",
       "      <td>1.163485</td>\n",
       "      <td>2</td>\n",
       "      <td>no stress</td>\n",
       "    </tr>\n",
       "    <tr>\n",
       "      <th>1</th>\n",
       "      <td>80c795e4-aa56-4cc0-939c-19634b89cbb2</td>\n",
       "      <td>9.170129</td>\n",
       "      <td>114.634458</td>\n",
       "      <td>2.174499</td>\n",
       "      <td>1.084711</td>\n",
       "      <td>2</td>\n",
       "      <td>interruption</td>\n",
       "    </tr>\n",
       "    <tr>\n",
       "      <th>2</th>\n",
       "      <td>c2d5d102-967c-487d-88f2-8b005a449f3e</td>\n",
       "      <td>11.533417</td>\n",
       "      <td>118.939253</td>\n",
       "      <td>2.135350</td>\n",
       "      <td>1.176315</td>\n",
       "      <td>2</td>\n",
       "      <td>interruption</td>\n",
       "    </tr>\n",
       "    <tr>\n",
       "      <th>3</th>\n",
       "      <td>37eabc44-1349-4040-8896-0d113ad4811f</td>\n",
       "      <td>11.119476</td>\n",
       "      <td>127.318597</td>\n",
       "      <td>2.178341</td>\n",
       "      <td>1.179688</td>\n",
       "      <td>2</td>\n",
       "      <td>no stress</td>\n",
       "    </tr>\n",
       "    <tr>\n",
       "      <th>4</th>\n",
       "      <td>aa777a6a-7aa3-4f6e-aced-70f8691dd2b7</td>\n",
       "      <td>13.590641</td>\n",
       "      <td>87.718281</td>\n",
       "      <td>2.221121</td>\n",
       "      <td>1.249612</td>\n",
       "      <td>2</td>\n",
       "      <td>no stress</td>\n",
       "    </tr>\n",
       "  </tbody>\n",
       "</table>\n",
       "</div>"
      ],
      "text/plain": [
       "                                   uuid        SD1         SD2    sampen  \\\n",
       "0  89df2855-56eb-4706-a23b-b39363dd605a  11.001565  199.061782  2.139754   \n",
       "1  80c795e4-aa56-4cc0-939c-19634b89cbb2   9.170129  114.634458  2.174499   \n",
       "2  c2d5d102-967c-487d-88f2-8b005a449f3e  11.533417  118.939253  2.135350   \n",
       "3  37eabc44-1349-4040-8896-0d113ad4811f  11.119476  127.318597  2.178341   \n",
       "4  aa777a6a-7aa3-4f6e-aced-70f8691dd2b7  13.590641   87.718281  2.221121   \n",
       "\n",
       "     higuci  datasetId     condition  \n",
       "0  1.163485          2     no stress  \n",
       "1  1.084711          2  interruption  \n",
       "2  1.176315          2  interruption  \n",
       "3  1.179688          2     no stress  \n",
       "4  1.249612          2     no stress  "
      ]
     },
     "execution_count": 10,
     "metadata": {},
     "output_type": "execute_result"
    }
   ],
   "source": [
    "timeDomainFeatureData.head()"
   ]
  },
  {
   "cell_type": "code",
   "execution_count": 11,
   "metadata": {
    "colab": {
     "base_uri": "https://localhost:8080/"
    },
    "id": "UcuKILW5J29I",
    "outputId": "daa36f89-f862-4974-810d-9c8e305a1558"
   },
   "outputs": [
    {
     "data": {
      "text/plain": [
       "(369289, 7)"
      ]
     },
     "execution_count": 11,
     "metadata": {},
     "output_type": "execute_result"
    }
   ],
   "source": [
    "timeDomainFeatureData.shape"
   ]
  },
  {
   "cell_type": "code",
   "execution_count": 12,
   "metadata": {
    "id": "uhR2bARjHsCC"
   },
   "outputs": [],
   "source": [
    "intermediateDF =freqDmfeatureData.merge(heartRateLinearData, on=['uuid'],how=\"inner\")"
   ]
  },
  {
   "cell_type": "code",
   "execution_count": 13,
   "metadata": {
    "colab": {
     "base_uri": "https://localhost:8080/"
    },
    "id": "taL5ouz8K-Rz",
    "outputId": "64333d6c-9dd0-4612-b006-06384ed110c3"
   },
   "outputs": [
    {
     "data": {
      "text/plain": [
       "(369289, 31)"
      ]
     },
     "execution_count": 13,
     "metadata": {},
     "output_type": "execute_result"
    }
   ],
   "source": [
    "intermediateDF.shape"
   ]
  },
  {
   "cell_type": "code",
   "execution_count": 14,
   "metadata": {
    "id": "OVFESJLALC29"
   },
   "outputs": [],
   "source": [
    "resultDF =intermediateDF.merge(timeDomainFeatureData,on=['uuid'],how=\"inner\")"
   ]
  },
  {
   "cell_type": "code",
   "execution_count": 15,
   "metadata": {
    "colab": {
     "base_uri": "https://localhost:8080/"
    },
    "id": "GNef3dQ8LNtk",
    "outputId": "ddb45f4f-db11-4e83-dc67-5d748a31a390"
   },
   "outputs": [
    {
     "data": {
      "text/plain": [
       "(369289, 37)"
      ]
     },
     "execution_count": 15,
     "metadata": {},
     "output_type": "execute_result"
    }
   ],
   "source": [
    "resultDF.shape"
   ]
  },
  {
   "cell_type": "code",
   "execution_count": 16,
   "metadata": {
    "colab": {
     "base_uri": "https://localhost:8080/",
     "height": 467
    },
    "id": "fy_4FKhALQhp",
    "outputId": "9fc49eda-657a-4411-f194-a908ec67f63b"
   },
   "outputs": [
    {
     "data": {
      "text/html": [
       "<div>\n",
       "<style scoped>\n",
       "    .dataframe tbody tr th:only-of-type {\n",
       "        vertical-align: middle;\n",
       "    }\n",
       "\n",
       "    .dataframe tbody tr th {\n",
       "        vertical-align: top;\n",
       "    }\n",
       "\n",
       "    .dataframe thead th {\n",
       "        text-align: right;\n",
       "    }\n",
       "</style>\n",
       "<table border=\"1\" class=\"dataframe\">\n",
       "  <thead>\n",
       "    <tr style=\"text-align: right;\">\n",
       "      <th></th>\n",
       "      <th>MEAN_RR</th>\n",
       "      <th>MEDIAN_RR</th>\n",
       "      <th>SDRR</th>\n",
       "      <th>RMSSD</th>\n",
       "      <th>SDSD</th>\n",
       "      <th>SDRR_RMSSD</th>\n",
       "      <th>HR</th>\n",
       "      <th>pNN25</th>\n",
       "      <th>pNN50</th>\n",
       "      <th>KURT</th>\n",
       "      <th>...</th>\n",
       "      <th>HF_NU</th>\n",
       "      <th>TP</th>\n",
       "      <th>LF_HF</th>\n",
       "      <th>HF_LF</th>\n",
       "      <th>SD1</th>\n",
       "      <th>SD2</th>\n",
       "      <th>sampen</th>\n",
       "      <th>higuci</th>\n",
       "      <th>datasetId</th>\n",
       "      <th>condition</th>\n",
       "    </tr>\n",
       "  </thead>\n",
       "  <tbody>\n",
       "    <tr>\n",
       "      <th>0</th>\n",
       "      <td>885.157845</td>\n",
       "      <td>853.763730</td>\n",
       "      <td>140.972741</td>\n",
       "      <td>15.554505</td>\n",
       "      <td>15.553371</td>\n",
       "      <td>9.063146</td>\n",
       "      <td>69.499952</td>\n",
       "      <td>11.133333</td>\n",
       "      <td>0.533333</td>\n",
       "      <td>-0.856554</td>\n",
       "      <td>...</td>\n",
       "      <td>1.514737</td>\n",
       "      <td>3686.666157</td>\n",
       "      <td>65.018055</td>\n",
       "      <td>0.015380</td>\n",
       "      <td>11.001565</td>\n",
       "      <td>199.061782</td>\n",
       "      <td>2.139754</td>\n",
       "      <td>1.163485</td>\n",
       "      <td>2</td>\n",
       "      <td>no stress</td>\n",
       "    </tr>\n",
       "    <tr>\n",
       "      <th>1</th>\n",
       "      <td>939.425371</td>\n",
       "      <td>948.357865</td>\n",
       "      <td>81.317742</td>\n",
       "      <td>12.964439</td>\n",
       "      <td>12.964195</td>\n",
       "      <td>6.272369</td>\n",
       "      <td>64.363150</td>\n",
       "      <td>5.600000</td>\n",
       "      <td>0.000000</td>\n",
       "      <td>-0.408190</td>\n",
       "      <td>...</td>\n",
       "      <td>0.304603</td>\n",
       "      <td>3006.487251</td>\n",
       "      <td>327.296635</td>\n",
       "      <td>0.003055</td>\n",
       "      <td>9.170129</td>\n",
       "      <td>114.634458</td>\n",
       "      <td>2.174499</td>\n",
       "      <td>1.084711</td>\n",
       "      <td>2</td>\n",
       "      <td>interruption</td>\n",
       "    </tr>\n",
       "    <tr>\n",
       "      <th>2</th>\n",
       "      <td>898.186047</td>\n",
       "      <td>907.006860</td>\n",
       "      <td>84.497236</td>\n",
       "      <td>16.305279</td>\n",
       "      <td>16.305274</td>\n",
       "      <td>5.182201</td>\n",
       "      <td>67.450066</td>\n",
       "      <td>13.066667</td>\n",
       "      <td>0.200000</td>\n",
       "      <td>0.351789</td>\n",
       "      <td>...</td>\n",
       "      <td>1.049528</td>\n",
       "      <td>2685.879461</td>\n",
       "      <td>94.280910</td>\n",
       "      <td>0.010607</td>\n",
       "      <td>11.533417</td>\n",
       "      <td>118.939253</td>\n",
       "      <td>2.135350</td>\n",
       "      <td>1.176315</td>\n",
       "      <td>2</td>\n",
       "      <td>interruption</td>\n",
       "    </tr>\n",
       "    <tr>\n",
       "      <th>3</th>\n",
       "      <td>881.757865</td>\n",
       "      <td>893.460030</td>\n",
       "      <td>90.370537</td>\n",
       "      <td>15.720468</td>\n",
       "      <td>15.720068</td>\n",
       "      <td>5.748591</td>\n",
       "      <td>68.809562</td>\n",
       "      <td>11.800000</td>\n",
       "      <td>0.133333</td>\n",
       "      <td>-0.504947</td>\n",
       "      <td>...</td>\n",
       "      <td>1.775294</td>\n",
       "      <td>3434.520980</td>\n",
       "      <td>55.328701</td>\n",
       "      <td>0.018074</td>\n",
       "      <td>11.119476</td>\n",
       "      <td>127.318597</td>\n",
       "      <td>2.178341</td>\n",
       "      <td>1.179688</td>\n",
       "      <td>2</td>\n",
       "      <td>no stress</td>\n",
       "    </tr>\n",
       "    <tr>\n",
       "      <th>4</th>\n",
       "      <td>809.625331</td>\n",
       "      <td>811.184865</td>\n",
       "      <td>62.766242</td>\n",
       "      <td>19.213819</td>\n",
       "      <td>19.213657</td>\n",
       "      <td>3.266724</td>\n",
       "      <td>74.565728</td>\n",
       "      <td>20.200000</td>\n",
       "      <td>0.200000</td>\n",
       "      <td>-0.548408</td>\n",
       "      <td>...</td>\n",
       "      <td>3.279993</td>\n",
       "      <td>2621.175204</td>\n",
       "      <td>29.487873</td>\n",
       "      <td>0.033912</td>\n",
       "      <td>13.590641</td>\n",
       "      <td>87.718281</td>\n",
       "      <td>2.221121</td>\n",
       "      <td>1.249612</td>\n",
       "      <td>2</td>\n",
       "      <td>no stress</td>\n",
       "    </tr>\n",
       "  </tbody>\n",
       "</table>\n",
       "<p>5 rows × 37 columns</p>\n",
       "</div>"
      ],
      "text/plain": [
       "      MEAN_RR   MEDIAN_RR        SDRR      RMSSD       SDSD  SDRR_RMSSD  \\\n",
       "0  885.157845  853.763730  140.972741  15.554505  15.553371    9.063146   \n",
       "1  939.425371  948.357865   81.317742  12.964439  12.964195    6.272369   \n",
       "2  898.186047  907.006860   84.497236  16.305279  16.305274    5.182201   \n",
       "3  881.757865  893.460030   90.370537  15.720468  15.720068    5.748591   \n",
       "4  809.625331  811.184865   62.766242  19.213819  19.213657    3.266724   \n",
       "\n",
       "          HR      pNN25     pNN50      KURT  ...     HF_NU           TP  \\\n",
       "0  69.499952  11.133333  0.533333 -0.856554  ...  1.514737  3686.666157   \n",
       "1  64.363150   5.600000  0.000000 -0.408190  ...  0.304603  3006.487251   \n",
       "2  67.450066  13.066667  0.200000  0.351789  ...  1.049528  2685.879461   \n",
       "3  68.809562  11.800000  0.133333 -0.504947  ...  1.775294  3434.520980   \n",
       "4  74.565728  20.200000  0.200000 -0.548408  ...  3.279993  2621.175204   \n",
       "\n",
       "        LF_HF     HF_LF        SD1         SD2    sampen    higuci  datasetId  \\\n",
       "0   65.018055  0.015380  11.001565  199.061782  2.139754  1.163485          2   \n",
       "1  327.296635  0.003055   9.170129  114.634458  2.174499  1.084711          2   \n",
       "2   94.280910  0.010607  11.533417  118.939253  2.135350  1.176315          2   \n",
       "3   55.328701  0.018074  11.119476  127.318597  2.178341  1.179688          2   \n",
       "4   29.487873  0.033912  13.590641   87.718281  2.221121  1.249612          2   \n",
       "\n",
       "      condition  \n",
       "0     no stress  \n",
       "1  interruption  \n",
       "2  interruption  \n",
       "3     no stress  \n",
       "4     no stress  \n",
       "\n",
       "[5 rows x 37 columns]"
      ]
     },
     "execution_count": 16,
     "metadata": {},
     "output_type": "execute_result"
    }
   ],
   "source": [
    "resultDF.head()"
   ]
  },
  {
   "cell_type": "code",
   "execution_count": 17,
   "metadata": {
    "colab": {
     "base_uri": "https://localhost:8080/"
    },
    "id": "uJEHSsXNLTMT",
    "outputId": "d0161faf-3057-4260-a035-34a97c919913"
   },
   "outputs": [
    {
     "name": "stdout",
     "output_type": "stream",
     "text": [
      "<class 'pandas.core.frame.DataFrame'>\n",
      "Int64Index: 369289 entries, 0 to 369288\n",
      "Data columns (total 37 columns):\n",
      " #   Column             Non-Null Count   Dtype  \n",
      "---  ------             --------------   -----  \n",
      " 0   MEAN_RR            369289 non-null  float64\n",
      " 1   MEDIAN_RR          369289 non-null  float64\n",
      " 2   SDRR               369289 non-null  float64\n",
      " 3   RMSSD              369289 non-null  float64\n",
      " 4   SDSD               369289 non-null  float64\n",
      " 5   SDRR_RMSSD         369289 non-null  float64\n",
      " 6   HR                 369289 non-null  float64\n",
      " 7   pNN25              369289 non-null  float64\n",
      " 8   pNN50              369289 non-null  float64\n",
      " 9   KURT               369289 non-null  float64\n",
      " 10  SKEW               369289 non-null  float64\n",
      " 11  MEAN_REL_RR        369289 non-null  float64\n",
      " 12  MEDIAN_REL_RR      369289 non-null  float64\n",
      " 13  SDRR_REL_RR        369289 non-null  float64\n",
      " 14  RMSSD_REL_RR       369289 non-null  float64\n",
      " 15  SDSD_REL_RR        369289 non-null  float64\n",
      " 16  SDRR_RMSSD_REL_RR  369289 non-null  float64\n",
      " 17  KURT_REL_RR        369289 non-null  float64\n",
      " 18  SKEW_REL_RR        369289 non-null  float64\n",
      " 19  uuid               369289 non-null  object \n",
      " 20  VLF                369289 non-null  float64\n",
      " 21  VLF_PCT            369289 non-null  float64\n",
      " 22  LF                 369289 non-null  float64\n",
      " 23  LF_PCT             369289 non-null  float64\n",
      " 24  LF_NU              369289 non-null  float64\n",
      " 25  HF                 369289 non-null  float64\n",
      " 26  HF_PCT             369289 non-null  float64\n",
      " 27  HF_NU              369289 non-null  float64\n",
      " 28  TP                 369289 non-null  float64\n",
      " 29  LF_HF              369289 non-null  float64\n",
      " 30  HF_LF              369289 non-null  float64\n",
      " 31  SD1                369289 non-null  float64\n",
      " 32  SD2                369289 non-null  float64\n",
      " 33  sampen             369289 non-null  float64\n",
      " 34  higuci             369289 non-null  float64\n",
      " 35  datasetId          369289 non-null  int64  \n",
      " 36  condition          369289 non-null  object \n",
      "dtypes: float64(34), int64(1), object(2)\n",
      "memory usage: 107.1+ MB\n"
     ]
    }
   ],
   "source": [
    "resultDF.info()"
   ]
  },
  {
   "cell_type": "code",
   "execution_count": 18,
   "metadata": {
    "colab": {
     "base_uri": "https://localhost:8080/"
    },
    "id": "P_66bPm3LaC_",
    "outputId": "7959b282-2885-4679-f62e-770b4002340c"
   },
   "outputs": [
    {
     "data": {
      "text/plain": [
       "MEAN_RR              0\n",
       "MEDIAN_RR            0\n",
       "SDRR                 0\n",
       "RMSSD                0\n",
       "SDSD                 0\n",
       "SDRR_RMSSD           0\n",
       "HR                   0\n",
       "pNN25                0\n",
       "pNN50                0\n",
       "KURT                 0\n",
       "SKEW                 0\n",
       "MEAN_REL_RR          0\n",
       "MEDIAN_REL_RR        0\n",
       "SDRR_REL_RR          0\n",
       "RMSSD_REL_RR         0\n",
       "SDSD_REL_RR          0\n",
       "SDRR_RMSSD_REL_RR    0\n",
       "KURT_REL_RR          0\n",
       "SKEW_REL_RR          0\n",
       "uuid                 0\n",
       "VLF                  0\n",
       "VLF_PCT              0\n",
       "LF                   0\n",
       "LF_PCT               0\n",
       "LF_NU                0\n",
       "HF                   0\n",
       "HF_PCT               0\n",
       "HF_NU                0\n",
       "TP                   0\n",
       "LF_HF                0\n",
       "HF_LF                0\n",
       "SD1                  0\n",
       "SD2                  0\n",
       "sampen               0\n",
       "higuci               0\n",
       "datasetId            0\n",
       "condition            0\n",
       "dtype: int64"
      ]
     },
     "execution_count": 18,
     "metadata": {},
     "output_type": "execute_result"
    }
   ],
   "source": [
    "resultDF.isnull().sum()"
   ]
  },
  {
   "cell_type": "code",
   "execution_count": 19,
   "metadata": {
    "colab": {
     "base_uri": "https://localhost:8080/"
    },
    "id": "DlKCJA2kMMUW",
    "outputId": "aa1e04ce-c6d7-42c2-aeee-8713cbd4f121"
   },
   "outputs": [
    {
     "data": {
      "image/png": "[encoded data removed]",
      "text/plain": [
       "<Figure size 432x288 with 2 Axes>"
      ]
     },
     "metadata": {
      "needs_background": "light"
     },
     "output_type": "display_data"
    }
   ],
   "source": [
    "sns.heatmap(resultDF.corr(),annot=True);"
   ]
  },
  {
   "cell_type": "code",
   "execution_count": 21,
   "metadata": {
    "id": "o981VgqHPvSZ"
   },
   "outputs": [],
   "source": [
    "finalDF =resultDF.drop('uuid',axis=1)"
   ]
  },
  {
   "cell_type": "code",
   "execution_count": 22,
   "metadata": {
    "id": "74YZ2Gm2RvqG"
   },
   "outputs": [],
   "source": [
    "# Convert categorical fields into binary\n",
    "finalDF_n = pd.get_dummies(finalDF, drop_first = True)"
   ]
  },
  {
   "cell_type": "code",
   "execution_count": 23,
   "metadata": {
    "colab": {
     "base_uri": "https://localhost:8080/"
    },
    "id": "pf5eL9VDSEG0",
    "outputId": "9630e049-00bb-405b-c167-d9e7267ec902"
   },
   "outputs": [
    {
     "data": {
      "text/plain": [
       "(369289, 37)"
      ]
     },
     "execution_count": 23,
     "metadata": {},
     "output_type": "execute_result"
    }
   ],
   "source": [
    "finalDF_n.shape"
   ]
  },
  {
   "cell_type": "code",
   "execution_count": 24,
   "metadata": {
    "id": "Q578pPrxOnO1"
   },
   "outputs": [],
   "source": [
    "X=finalDF_n.drop(columns=['HR'],axis=1)\n",
    "y=finalDF_n['HR']"
   ]
  },
  {
   "cell_type": "code",
   "execution_count": 25,
   "metadata": {
    "colab": {
     "base_uri": "https://localhost:8080/"
    },
    "id": "O36KDq3eP-QQ",
    "outputId": "a65ad0d0-3a8e-470e-b9f4-9842c86997dd"
   },
   "outputs": [
    {
     "data": {
      "text/plain": [
       "((369289, 36), (369289,))"
      ]
     },
     "execution_count": 25,
     "metadata": {},
     "output_type": "execute_result"
    }
   ],
   "source": [
    "X.shape,y.shape"
   ]
  },
  {
   "cell_type": "code",
   "execution_count": 26,
   "metadata": {
    "colab": {
     "base_uri": "https://localhost:8080/",
     "height": 232
    },
    "id": "tiwWahP9QAJv",
    "outputId": "5e0c1ccb-b014-497f-e094-331c7f80908d"
   },
   "outputs": [
    {
     "data": {
      "text/html": [
       "<div>\n",
       "<style scoped>\n",
       "    .dataframe tbody tr th:only-of-type {\n",
       "        vertical-align: middle;\n",
       "    }\n",
       "\n",
       "    .dataframe tbody tr th {\n",
       "        vertical-align: top;\n",
       "    }\n",
       "\n",
       "    .dataframe thead th {\n",
       "        text-align: right;\n",
       "    }\n",
       "</style>\n",
       "<table border=\"1\" class=\"dataframe\">\n",
       "  <thead>\n",
       "    <tr style=\"text-align: right;\">\n",
       "      <th></th>\n",
       "      <th>MEAN_RR</th>\n",
       "      <th>MEDIAN_RR</th>\n",
       "      <th>SDRR</th>\n",
       "      <th>RMSSD</th>\n",
       "      <th>SDSD</th>\n",
       "      <th>SDRR_RMSSD</th>\n",
       "      <th>pNN25</th>\n",
       "      <th>pNN50</th>\n",
       "      <th>KURT</th>\n",
       "      <th>SKEW</th>\n",
       "      <th>...</th>\n",
       "      <th>TP</th>\n",
       "      <th>LF_HF</th>\n",
       "      <th>HF_LF</th>\n",
       "      <th>SD1</th>\n",
       "      <th>SD2</th>\n",
       "      <th>sampen</th>\n",
       "      <th>higuci</th>\n",
       "      <th>datasetId</th>\n",
       "      <th>condition_no stress</th>\n",
       "      <th>condition_time pressure</th>\n",
       "    </tr>\n",
       "  </thead>\n",
       "  <tbody>\n",
       "    <tr>\n",
       "      <th>0</th>\n",
       "      <td>885.157845</td>\n",
       "      <td>853.763730</td>\n",
       "      <td>140.972741</td>\n",
       "      <td>15.554505</td>\n",
       "      <td>15.553371</td>\n",
       "      <td>9.063146</td>\n",
       "      <td>11.133333</td>\n",
       "      <td>0.533333</td>\n",
       "      <td>-0.856554</td>\n",
       "      <td>0.335218</td>\n",
       "      <td>...</td>\n",
       "      <td>3686.666157</td>\n",
       "      <td>65.018055</td>\n",
       "      <td>0.015380</td>\n",
       "      <td>11.001565</td>\n",
       "      <td>199.061782</td>\n",
       "      <td>2.139754</td>\n",
       "      <td>1.163485</td>\n",
       "      <td>2</td>\n",
       "      <td>1</td>\n",
       "      <td>0</td>\n",
       "    </tr>\n",
       "    <tr>\n",
       "      <th>1</th>\n",
       "      <td>939.425371</td>\n",
       "      <td>948.357865</td>\n",
       "      <td>81.317742</td>\n",
       "      <td>12.964439</td>\n",
       "      <td>12.964195</td>\n",
       "      <td>6.272369</td>\n",
       "      <td>5.600000</td>\n",
       "      <td>0.000000</td>\n",
       "      <td>-0.408190</td>\n",
       "      <td>-0.155286</td>\n",
       "      <td>...</td>\n",
       "      <td>3006.487251</td>\n",
       "      <td>327.296635</td>\n",
       "      <td>0.003055</td>\n",
       "      <td>9.170129</td>\n",
       "      <td>114.634458</td>\n",
       "      <td>2.174499</td>\n",
       "      <td>1.084711</td>\n",
       "      <td>2</td>\n",
       "      <td>0</td>\n",
       "      <td>0</td>\n",
       "    </tr>\n",
       "    <tr>\n",
       "      <th>2</th>\n",
       "      <td>898.186047</td>\n",
       "      <td>907.006860</td>\n",
       "      <td>84.497236</td>\n",
       "      <td>16.305279</td>\n",
       "      <td>16.305274</td>\n",
       "      <td>5.182201</td>\n",
       "      <td>13.066667</td>\n",
       "      <td>0.200000</td>\n",
       "      <td>0.351789</td>\n",
       "      <td>-0.656813</td>\n",
       "      <td>...</td>\n",
       "      <td>2685.879461</td>\n",
       "      <td>94.280910</td>\n",
       "      <td>0.010607</td>\n",
       "      <td>11.533417</td>\n",
       "      <td>118.939253</td>\n",
       "      <td>2.135350</td>\n",
       "      <td>1.176315</td>\n",
       "      <td>2</td>\n",
       "      <td>0</td>\n",
       "      <td>0</td>\n",
       "    </tr>\n",
       "    <tr>\n",
       "      <th>3</th>\n",
       "      <td>881.757865</td>\n",
       "      <td>893.460030</td>\n",
       "      <td>90.370537</td>\n",
       "      <td>15.720468</td>\n",
       "      <td>15.720068</td>\n",
       "      <td>5.748591</td>\n",
       "      <td>11.800000</td>\n",
       "      <td>0.133333</td>\n",
       "      <td>-0.504947</td>\n",
       "      <td>-0.386138</td>\n",
       "      <td>...</td>\n",
       "      <td>3434.520980</td>\n",
       "      <td>55.328701</td>\n",
       "      <td>0.018074</td>\n",
       "      <td>11.119476</td>\n",
       "      <td>127.318597</td>\n",
       "      <td>2.178341</td>\n",
       "      <td>1.179688</td>\n",
       "      <td>2</td>\n",
       "      <td>1</td>\n",
       "      <td>0</td>\n",
       "    </tr>\n",
       "    <tr>\n",
       "      <th>4</th>\n",
       "      <td>809.625331</td>\n",
       "      <td>811.184865</td>\n",
       "      <td>62.766242</td>\n",
       "      <td>19.213819</td>\n",
       "      <td>19.213657</td>\n",
       "      <td>3.266724</td>\n",
       "      <td>20.200000</td>\n",
       "      <td>0.200000</td>\n",
       "      <td>-0.548408</td>\n",
       "      <td>-0.154252</td>\n",
       "      <td>...</td>\n",
       "      <td>2621.175204</td>\n",
       "      <td>29.487873</td>\n",
       "      <td>0.033912</td>\n",
       "      <td>13.590641</td>\n",
       "      <td>87.718281</td>\n",
       "      <td>2.221121</td>\n",
       "      <td>1.249612</td>\n",
       "      <td>2</td>\n",
       "      <td>1</td>\n",
       "      <td>0</td>\n",
       "    </tr>\n",
       "  </tbody>\n",
       "</table>\n",
       "<p>5 rows × 36 columns</p>\n",
       "</div>"
      ],
      "text/plain": [
       "      MEAN_RR   MEDIAN_RR        SDRR      RMSSD       SDSD  SDRR_RMSSD  \\\n",
       "0  885.157845  853.763730  140.972741  15.554505  15.553371    9.063146   \n",
       "1  939.425371  948.357865   81.317742  12.964439  12.964195    6.272369   \n",
       "2  898.186047  907.006860   84.497236  16.305279  16.305274    5.182201   \n",
       "3  881.757865  893.460030   90.370537  15.720468  15.720068    5.748591   \n",
       "4  809.625331  811.184865   62.766242  19.213819  19.213657    3.266724   \n",
       "\n",
       "       pNN25     pNN50      KURT      SKEW  ...           TP       LF_HF  \\\n",
       "0  11.133333  0.533333 -0.856554  0.335218  ...  3686.666157   65.018055   \n",
       "1   5.600000  0.000000 -0.408190 -0.155286  ...  3006.487251  327.296635   \n",
       "2  13.066667  0.200000  0.351789 -0.656813  ...  2685.879461   94.280910   \n",
       "3  11.800000  0.133333 -0.504947 -0.386138  ...  3434.520980   55.328701   \n",
       "4  20.200000  0.200000 -0.548408 -0.154252  ...  2621.175204   29.487873   \n",
       "\n",
       "      HF_LF        SD1         SD2    sampen    higuci  datasetId  \\\n",
       "0  0.015380  11.001565  199.061782  2.139754  1.163485          2   \n",
       "1  0.003055   9.170129  114.634458  2.174499  1.084711          2   \n",
       "2  0.010607  11.533417  118.939253  2.135350  1.176315          2   \n",
       "3  0.018074  11.119476  127.318597  2.178341  1.179688          2   \n",
       "4  0.033912  13.590641   87.718281  2.221121  1.249612          2   \n",
       "\n",
       "   condition_no stress  condition_time pressure  \n",
       "0                    1                        0  \n",
       "1                    0                        0  \n",
       "2                    0                        0  \n",
       "3                    1                        0  \n",
       "4                    1                        0  \n",
       "\n",
       "[5 rows x 36 columns]"
      ]
     },
     "execution_count": 26,
     "metadata": {},
     "output_type": "execute_result"
    }
   ],
   "source": [
    "X.head()"
   ]
  },
  {
   "cell_type": "code",
   "execution_count": 27,
   "metadata": {
    "colab": {
     "base_uri": "https://localhost:8080/"
    },
    "id": "tsEW6tPhQBMo",
    "outputId": "25ee884c-cbb6-44be-89ba-dd57f448ddc1"
   },
   "outputs": [
    {
     "data": {
      "text/plain": [
       "0    69.499952\n",
       "1    64.363150\n",
       "2    67.450066\n",
       "3    68.809562\n",
       "4    74.565728\n",
       "Name: HR, dtype: float64"
      ]
     },
     "execution_count": 27,
     "metadata": {},
     "output_type": "execute_result"
    }
   ],
   "source": [
    "y.head()"
   ]
  },
  {
   "cell_type": "code",
   "execution_count": 28,
   "metadata": {
    "colab": {
     "base_uri": "https://localhost:8080/"
    },
    "id": "x9xc9eh6QGy_",
    "outputId": "e4a53278-e429-4722-e637-5fab80dacbf3"
   },
   "outputs": [
    {
     "data": {
      "text/plain": [
       "((295431, 36), (73858, 36), (295431,), (73858,))"
      ]
     },
     "execution_count": 28,
     "metadata": {},
     "output_type": "execute_result"
    }
   ],
   "source": [
    "X_train,X_test,y_train,y_test = train_test_split(X,y,test_size=0.2,random_state=7)\n",
    "X_train.shape,X_test.shape,y_train.shape,y_test.shape"
   ]
  },
  {
   "cell_type": "code",
   "execution_count": 29,
   "metadata": {
    "colab": {
     "base_uri": "https://localhost:8080/"
    },
    "id": "bMz5xX5_QSeO",
    "outputId": "e05b0abf-f7b6-4a2d-cd55-30c6cff185aa"
   },
   "outputs": [
    {
     "data": {
      "text/plain": [
       "((236344, 36), (59087, 36), (236344,), (59087,))"
      ]
     },
     "execution_count": 29,
     "metadata": {},
     "output_type": "execute_result"
    }
   ],
   "source": [
    "X_train_split,X_valid,y_train_split,y_valid = train_test_split(X_train,y_train,test_size=0.2,random_state=7)\n",
    "X_train_split.shape,X_valid.shape,y_train_split.shape,y_valid.shape"
   ]
  },
  {
   "cell_type": "markdown",
   "metadata": {
    "id": "AiWKS3WIQgQa"
   },
   "source": [
    "FEATURE SELECTION using Backward Elimination, SequentialFeatureSelector,RFE,**LASSOCV** bold text bold text"
   ]
  },
  {
   "cell_type": "markdown",
   "metadata": {
    "id": "_kjd6CuUQevi"
   },
   "source": []
  },
  {
   "cell_type": "code",
   "execution_count": 30,
   "metadata": {
    "colab": {
     "base_uri": "https://localhost:8080/"
    },
    "id": "4CTvGQ41RJFG",
    "outputId": "d2ceeed6-4f63-4204-8a9f-660cf63733d8"
   },
   "outputs": [
    {
     "data": {
      "text/plain": [
       "pandas.core.series.Series"
      ]
     },
     "execution_count": 30,
     "metadata": {},
     "output_type": "execute_result"
    }
   ],
   "source": [
    "type(y_train_split)"
   ]
  },
  {
   "cell_type": "code",
   "execution_count": 33,
   "metadata": {
    "colab": {
     "base_uri": "https://localhost:8080/"
    },
    "id": "hrZUPScNTgUw",
    "outputId": "ce30f445-c696-42a3-b396-df64576bf96a"
   },
   "outputs": [
    {
     "name": "stdout",
     "output_type": "stream",
     "text": [
      "[17 20 16 14  1 22 19 24  8  3 31 26 21 12 13 27  9  2  5  1  6  1 11  7\n",
      "  1 10  4 23 18  1 15 28 25 32 30 29]\n"
     ]
    }
   ],
   "source": [
    "from sklearn.svm import LinearSVR\n",
    "from sklearn.feature_selection import RFE\n",
    "from sklearn.pipeline import make_pipeline\n",
    "\n",
    "estimator=LinearRegression()\n",
    "selector = RFE(estimator, n_features_to_select=5, step=1)\n",
    "\n",
    "regr = make_pipeline(StandardScaler(),selector)\n",
    "\n",
    "pipeselector = regr.fit(X_train_split, y_train_split)\n",
    "print(pipeselector.named_steps['rfe'].ranking_)"
   ]
  },
  {
   "cell_type": "code",
   "execution_count": 35,
   "metadata": {
    "colab": {
     "base_uri": "https://localhost:8080/"
    },
    "id": "FiZ0t4hyTmHI",
    "outputId": "e1dcc26d-aca6-461f-b2f1-42a2bd79828d"
   },
   "outputs": [
    {
     "name": "stderr",
     "output_type": "stream",
     "text": [
      "/home/rodrigo/anaconda3/lib/python3.7/site-packages/sklearn/model_selection/_split.py:1978: FutureWarning: The default value of cv will change from 3 to 5 in version 0.22. Specify it explicitly to silence this warning.\n",
      "  warnings.warn(CV_WARNING, FutureWarning)\n"
     ]
    },
    {
     "name": "stdout",
     "output_type": "stream",
     "text": [
      "Best alpha using built-in LassoCV: 5.978339\n",
      "Best score using built-in LassoCV: 0.970603\n",
      "Lasso picked 8 variables and eliminated the other 28 variables\n"
     ]
    },
    {
     "data": {
      "text/plain": [
       "Text(0.5, 1.0, 'Feature importance using Lasso Model')"
      ]
     },
     "execution_count": 35,
     "metadata": {},
     "output_type": "execute_result"
    },
    {
     "data": {
      "image/png": "[encoded data removed]",
      "text/plain": [
       "<Figure size 576x720 with 1 Axes>"
      ]
     },
     "metadata": {
      "needs_background": "light"
     },
     "output_type": "display_data"
    }
   ],
   "source": [
    "from sklearn.linear_model import LassoCV\n",
    "reg = LassoCV()\n",
    "reg.fit(X_train_split, y_train_split)\n",
    "print(\"Best alpha using built-in LassoCV: %f\" % reg.alpha_)\n",
    "print(\"Best score using built-in LassoCV: %f\" %reg.score(X_train_split,y_train_split))\n",
    "coef = pd.Series(reg.coef_, index = X.columns)\n",
    "print(\"Lasso picked \" + str(sum(coef != 0)) + \" variables and eliminated the other \" +  str(sum(coef == 0)) + \" variables\")\n",
    "imp_coef = coef.sort_values()\n",
    "import matplotlib\n",
    "matplotlib.rcParams['figure.figsize'] = (8.0, 10.0)\n",
    "imp_coef.plot(kind = \"barh\")\n",
    "plt.title(\"Feature importance using Lasso Model\")"
   ]
  },
  {
   "cell_type": "code",
   "execution_count": 38,
   "metadata": {},
   "outputs": [],
   "source": [
    "# !pip install xgboost"
   ]
  },
  {
   "cell_type": "code",
   "execution_count": 39,
   "metadata": {
    "colab": {
     "base_uri": "https://localhost:8080/",
     "height": 370
    },
    "id": "Dm6fG5HpTp-d",
    "outputId": "3dc15f82-10d0-4a14-87e5-97a93aca6651"
   },
   "outputs": [
    {
     "data": {
      "text/html": [
       "<div>\n",
       "<style scoped>\n",
       "    .dataframe tbody tr th:only-of-type {\n",
       "        vertical-align: middle;\n",
       "    }\n",
       "\n",
       "    .dataframe tbody tr th {\n",
       "        vertical-align: top;\n",
       "    }\n",
       "\n",
       "    .dataframe thead th {\n",
       "        text-align: right;\n",
       "    }\n",
       "</style>\n",
       "<table border=\"1\" class=\"dataframe\">\n",
       "  <thead>\n",
       "    <tr style=\"text-align: right;\">\n",
       "      <th></th>\n",
       "      <th>Method</th>\n",
       "      <th>MSE All columns</th>\n",
       "      <th>STD Dev</th>\n",
       "    </tr>\n",
       "  </thead>\n",
       "  <tbody>\n",
       "    <tr>\n",
       "      <th>0</th>\n",
       "      <td>LinearRegression</td>\n",
       "      <td>-0.956972</td>\n",
       "      <td>0.003984</td>\n",
       "    </tr>\n",
       "    <tr>\n",
       "      <th>1</th>\n",
       "      <td>Lasso</td>\n",
       "      <td>-1.397233</td>\n",
       "      <td>0.007588</td>\n",
       "    </tr>\n",
       "    <tr>\n",
       "      <th>2</th>\n",
       "      <td>Ridge</td>\n",
       "      <td>-0.955160</td>\n",
       "      <td>0.004667</td>\n",
       "    </tr>\n",
       "    <tr>\n",
       "      <th>3</th>\n",
       "      <td>LassoLars</td>\n",
       "      <td>-8.152872</td>\n",
       "      <td>0.068324</td>\n",
       "    </tr>\n",
       "    <tr>\n",
       "      <th>4</th>\n",
       "      <td>DecisionTreeRegressor</td>\n",
       "      <td>-0.020578</td>\n",
       "      <td>0.000276</td>\n",
       "    </tr>\n",
       "    <tr>\n",
       "      <th>5</th>\n",
       "      <td>RandomForestRegressor</td>\n",
       "      <td>-0.016158</td>\n",
       "      <td>0.000111</td>\n",
       "    </tr>\n",
       "    <tr>\n",
       "      <th>6</th>\n",
       "      <td>AdaBoostRegressor</td>\n",
       "      <td>-1.465480</td>\n",
       "      <td>0.038377</td>\n",
       "    </tr>\n",
       "    <tr>\n",
       "      <th>7</th>\n",
       "      <td>GradientBoostingRegressor</td>\n",
       "      <td>-0.358624</td>\n",
       "      <td>0.006960</td>\n",
       "    </tr>\n",
       "    <tr>\n",
       "      <th>8</th>\n",
       "      <td>XGBRegressor</td>\n",
       "      <td>-0.109012</td>\n",
       "      <td>0.001902</td>\n",
       "    </tr>\n",
       "  </tbody>\n",
       "</table>\n",
       "</div>"
      ],
      "text/plain": [
       "                      Method  MSE All columns   STD Dev\n",
       "0           LinearRegression        -0.956972  0.003984\n",
       "1                      Lasso        -1.397233  0.007588\n",
       "2                      Ridge        -0.955160  0.004667\n",
       "3                  LassoLars        -8.152872  0.068324\n",
       "4      DecisionTreeRegressor        -0.020578  0.000276\n",
       "5      RandomForestRegressor        -0.016158  0.000111\n",
       "6          AdaBoostRegressor        -1.465480  0.038377\n",
       "7  GradientBoostingRegressor        -0.358624  0.006960\n",
       "8               XGBRegressor        -0.109012  0.001902"
      ]
     },
     "execution_count": 39,
     "metadata": {},
     "output_type": "execute_result"
    }
   ],
   "source": [
    "import warnings; warnings.simplefilter('ignore')\n",
    "\n",
    "from sklearn.pipeline import Pipeline\n",
    "from sklearn.linear_model import LinearRegression, Lasso, Ridge, LassoLars\n",
    "from sklearn.neighbors import KNeighborsRegressor\n",
    "from sklearn.tree import DecisionTreeRegressor\n",
    "from sklearn.ensemble import RandomForestRegressor, AdaBoostRegressor, GradientBoostingRegressor\n",
    "from sklearn.metrics import mean_squared_error\n",
    "from sklearn.preprocessing import PolynomialFeatures\n",
    "from sklearn.model_selection import cross_val_score\n",
    "from sklearn.model_selection import ShuffleSplit\n",
    "from sklearn.preprocessing import RobustScaler\n",
    "import xgboost as xgb\n",
    "\n",
    "from sklearn.pipeline import make_pipeline\n",
    "preprocessor = make_pipeline(\n",
    "    #SimpleImputer(strategy = 'median'),\n",
    "    #PowerTransformer(method = 'yeo-johnson', standardize = False),\n",
    "    StandardScaler()\n",
    "    #RobustScaler()\n",
    ")\n",
    "\n",
    "\n",
    "def quick_eval(pipeline, X_train, y_train,X_test,y_test , verbose=True):\n",
    "    \"\"\"\n",
    "    Quickly trains modeling pipeline and evaluates on test data. Returns original model, training RMSE, and testing\n",
    "    RMSE as a tuple.\n",
    "    \"\"\"\n",
    "    \n",
    "   \n",
    "    cv = ShuffleSplit(n_splits=5, test_size=0.2, random_state=0) \n",
    "    #clf = make_pipeline(preprocessing.StandardScaler(), svm.SVC(C=1))\n",
    "   # scores =cross_val_score(pipeline, X_train, y_train, cv=cv,scoring='neg_mean_absolute_error')\n",
    "    scores =cross_val_score(pipeline, X_train, y_train, scoring='neg_mean_absolute_error')\n",
    "    #print(f\"Regression algorithm: {pipeline.named_steps['regressor'].__class__.__name__}\")\n",
    "    #print(\"Accuracy: %0.2f (+/- %0.2f)\" % (scores.mean(), scores.std() * 2))\n",
    "    return  pipeline.named_steps['regressor'].__class__.__name__,scores.mean(), scores.std() * 2\n",
    "    \n",
    "   \n",
    "regressors = [\n",
    "    LinearRegression(),\n",
    "    Lasso(alpha=.5),\n",
    "    Ridge(alpha=.1),\n",
    "    LassoLars(alpha=.1),\n",
    "    DecisionTreeRegressor(),\n",
    "    RandomForestRegressor(),\n",
    "    AdaBoostRegressor(),\n",
    "    GradientBoostingRegressor(),\n",
    "    xgb.XGBRegressor()\n",
    "]\n",
    "\n",
    "\n",
    "\n",
    "# Creating an empty Dataframe with column names only\n",
    "resultsDfwithallColumns = pd.DataFrame(columns=['Method', 'MSE All columns', 'STD Dev'])\n",
    "\n",
    "for r in regressors:\n",
    "    pipe = Pipeline(steps = [\n",
    "        ('preprocessor', preprocessor),\n",
    "        ('regressor', r)\n",
    "    ])\n",
    "\n",
    "    eval_scores=quick_eval(pipe, X_train_split, y_train_split,X_valid,y_valid)\n",
    "    resultsDfwithallColumns = resultsDfwithallColumns.append({'Method': eval_scores[0], \n",
    "                          'MSE All columns': eval_scores[1], \n",
    "                          'STD Dev': eval_scores[2]\n",
    "                         },ignore_index=True)\n",
    "    #print()\n",
    "\n",
    "    \n",
    "# Store performance scores of the model in a dataframe for comparison\n",
    "resultsDfwithallColumns\n"
   ]
  },
  {
   "cell_type": "code",
   "execution_count": 40,
   "metadata": {
    "colab": {
     "base_uri": "https://localhost:8080/",
     "height": 232
    },
    "id": "R9Tyi78oUfY9",
    "outputId": "b50220f9-9e52-4afb-a0dc-e05467bb83c7"
   },
   "outputs": [
    {
     "data": {
      "text/html": [
       "<div>\n",
       "<style scoped>\n",
       "    .dataframe tbody tr th:only-of-type {\n",
       "        vertical-align: middle;\n",
       "    }\n",
       "\n",
       "    .dataframe tbody tr th {\n",
       "        vertical-align: top;\n",
       "    }\n",
       "\n",
       "    .dataframe thead th {\n",
       "        text-align: right;\n",
       "    }\n",
       "</style>\n",
       "<table border=\"1\" class=\"dataframe\">\n",
       "  <thead>\n",
       "    <tr style=\"text-align: right;\">\n",
       "      <th></th>\n",
       "      <th>MEAN_RR</th>\n",
       "      <th>MEDIAN_RR</th>\n",
       "      <th>SDRR</th>\n",
       "      <th>RMSSD</th>\n",
       "      <th>SDSD</th>\n",
       "      <th>SDRR_RMSSD</th>\n",
       "      <th>pNN25</th>\n",
       "      <th>pNN50</th>\n",
       "      <th>KURT</th>\n",
       "      <th>SKEW</th>\n",
       "      <th>...</th>\n",
       "      <th>TP</th>\n",
       "      <th>LF_HF</th>\n",
       "      <th>HF_LF</th>\n",
       "      <th>SD1</th>\n",
       "      <th>SD2</th>\n",
       "      <th>sampen</th>\n",
       "      <th>higuci</th>\n",
       "      <th>datasetId</th>\n",
       "      <th>condition_no stress</th>\n",
       "      <th>condition_time pressure</th>\n",
       "    </tr>\n",
       "  </thead>\n",
       "  <tbody>\n",
       "    <tr>\n",
       "      <th>4265</th>\n",
       "      <td>1003.295321</td>\n",
       "      <td>988.555125</td>\n",
       "      <td>154.983932</td>\n",
       "      <td>15.910268</td>\n",
       "      <td>15.908728</td>\n",
       "      <td>9.741126</td>\n",
       "      <td>10.333333</td>\n",
       "      <td>1.066667</td>\n",
       "      <td>-0.934246</td>\n",
       "      <td>0.064012</td>\n",
       "      <td>...</td>\n",
       "      <td>4615.761201</td>\n",
       "      <td>129.741121</td>\n",
       "      <td>0.007708</td>\n",
       "      <td>11.252924</td>\n",
       "      <td>218.891320</td>\n",
       "      <td>2.211436</td>\n",
       "      <td>1.092152</td>\n",
       "      <td>2</td>\n",
       "      <td>0</td>\n",
       "      <td>1</td>\n",
       "    </tr>\n",
       "    <tr>\n",
       "      <th>120839</th>\n",
       "      <td>583.306627</td>\n",
       "      <td>548.345925</td>\n",
       "      <td>123.211769</td>\n",
       "      <td>18.878554</td>\n",
       "      <td>18.878168</td>\n",
       "      <td>6.526547</td>\n",
       "      <td>13.533333</td>\n",
       "      <td>2.333333</td>\n",
       "      <td>-0.486589</td>\n",
       "      <td>0.645037</td>\n",
       "      <td>...</td>\n",
       "      <td>3684.647643</td>\n",
       "      <td>3.469913</td>\n",
       "      <td>0.288192</td>\n",
       "      <td>13.353335</td>\n",
       "      <td>173.735340</td>\n",
       "      <td>2.042937</td>\n",
       "      <td>1.274086</td>\n",
       "      <td>2</td>\n",
       "      <td>1</td>\n",
       "      <td>0</td>\n",
       "    </tr>\n",
       "    <tr>\n",
       "      <th>314275</th>\n",
       "      <td>842.195258</td>\n",
       "      <td>835.300310</td>\n",
       "      <td>70.872716</td>\n",
       "      <td>13.472784</td>\n",
       "      <td>13.472728</td>\n",
       "      <td>5.260436</td>\n",
       "      <td>5.600000</td>\n",
       "      <td>0.266667</td>\n",
       "      <td>2.682460</td>\n",
       "      <td>0.359223</td>\n",
       "      <td>...</td>\n",
       "      <td>2201.108066</td>\n",
       "      <td>13.549236</td>\n",
       "      <td>0.073805</td>\n",
       "      <td>9.529837</td>\n",
       "      <td>99.775076</td>\n",
       "      <td>1.982298</td>\n",
       "      <td>1.298224</td>\n",
       "      <td>2</td>\n",
       "      <td>0</td>\n",
       "      <td>1</td>\n",
       "    </tr>\n",
       "    <tr>\n",
       "      <th>18116</th>\n",
       "      <td>829.678816</td>\n",
       "      <td>830.965570</td>\n",
       "      <td>62.059453</td>\n",
       "      <td>15.024654</td>\n",
       "      <td>15.024590</td>\n",
       "      <td>4.130508</td>\n",
       "      <td>8.733333</td>\n",
       "      <td>0.133333</td>\n",
       "      <td>-0.266425</td>\n",
       "      <td>-0.072758</td>\n",
       "      <td>...</td>\n",
       "      <td>2061.497076</td>\n",
       "      <td>82.798714</td>\n",
       "      <td>0.012077</td>\n",
       "      <td>10.627535</td>\n",
       "      <td>87.119497</td>\n",
       "      <td>2.206430</td>\n",
       "      <td>1.148081</td>\n",
       "      <td>2</td>\n",
       "      <td>0</td>\n",
       "      <td>0</td>\n",
       "    </tr>\n",
       "    <tr>\n",
       "      <th>117508</th>\n",
       "      <td>823.780613</td>\n",
       "      <td>826.226855</td>\n",
       "      <td>76.166544</td>\n",
       "      <td>10.111924</td>\n",
       "      <td>10.111823</td>\n",
       "      <td>7.532350</td>\n",
       "      <td>2.933333</td>\n",
       "      <td>0.000000</td>\n",
       "      <td>1.888024</td>\n",
       "      <td>0.122539</td>\n",
       "      <td>...</td>\n",
       "      <td>2257.835974</td>\n",
       "      <td>21.361274</td>\n",
       "      <td>0.046814</td>\n",
       "      <td>7.152525</td>\n",
       "      <td>107.478027</td>\n",
       "      <td>1.938560</td>\n",
       "      <td>1.161808</td>\n",
       "      <td>2</td>\n",
       "      <td>1</td>\n",
       "      <td>0</td>\n",
       "    </tr>\n",
       "  </tbody>\n",
       "</table>\n",
       "<p>5 rows × 36 columns</p>\n",
       "</div>"
      ],
      "text/plain": [
       "            MEAN_RR   MEDIAN_RR        SDRR      RMSSD       SDSD  SDRR_RMSSD  \\\n",
       "4265    1003.295321  988.555125  154.983932  15.910268  15.908728    9.741126   \n",
       "120839   583.306627  548.345925  123.211769  18.878554  18.878168    6.526547   \n",
       "314275   842.195258  835.300310   70.872716  13.472784  13.472728    5.260436   \n",
       "18116    829.678816  830.965570   62.059453  15.024654  15.024590    4.130508   \n",
       "117508   823.780613  826.226855   76.166544  10.111924  10.111823    7.532350   \n",
       "\n",
       "            pNN25     pNN50      KURT      SKEW  ...           TP       LF_HF  \\\n",
       "4265    10.333333  1.066667 -0.934246  0.064012  ...  4615.761201  129.741121   \n",
       "120839  13.533333  2.333333 -0.486589  0.645037  ...  3684.647643    3.469913   \n",
       "314275   5.600000  0.266667  2.682460  0.359223  ...  2201.108066   13.549236   \n",
       "18116    8.733333  0.133333 -0.266425 -0.072758  ...  2061.497076   82.798714   \n",
       "117508   2.933333  0.000000  1.888024  0.122539  ...  2257.835974   21.361274   \n",
       "\n",
       "           HF_LF        SD1         SD2    sampen    higuci  datasetId  \\\n",
       "4265    0.007708  11.252924  218.891320  2.211436  1.092152          2   \n",
       "120839  0.288192  13.353335  173.735340  2.042937  1.274086          2   \n",
       "314275  0.073805   9.529837   99.775076  1.982298  1.298224          2   \n",
       "18116   0.012077  10.627535   87.119497  2.206430  1.148081          2   \n",
       "117508  0.046814   7.152525  107.478027  1.938560  1.161808          2   \n",
       "\n",
       "        condition_no stress  condition_time pressure  \n",
       "4265                      0                        1  \n",
       "120839                    1                        0  \n",
       "314275                    0                        1  \n",
       "18116                     0                        0  \n",
       "117508                    1                        0  \n",
       "\n",
       "[5 rows x 36 columns]"
      ]
     },
     "execution_count": 40,
     "metadata": {},
     "output_type": "execute_result"
    }
   ],
   "source": [
    "X_train_split.head()"
   ]
  },
  {
   "cell_type": "code",
   "execution_count": 41,
   "metadata": {
    "id": "7KgTOIs0bgAl"
   },
   "outputs": [],
   "source": [
    "import xgboost as xgb\n",
    "from sklearn.model_selection import RandomizedSearchCV,GridSearchCV"
   ]
  },
  {
   "cell_type": "code",
   "execution_count": 42,
   "metadata": {
    "colab": {
     "base_uri": "https://localhost:8080/"
    },
    "id": "xjZ60sWJhPEt",
    "outputId": "fbdfd539-0d98-4a24-a050-dda26444784f"
   },
   "outputs": [],
   "source": [
    "preprocessor = make_pipeline(\n",
    "    #SimpleImputer(strategy = 'median'),\n",
    "    #PowerTransformer(method = 'yeo-johnson', standardize = False),\n",
    "    StandardScaler()\n",
    "    #RobustScaler()\n",
    ")\n",
    "\n",
    "pipe = Pipeline(steps = [\n",
    "        ('preprocessor', preprocessor),\n",
    "        ('regressor', xgb.XGBRegressor())\n",
    "    ])\n",
    "scores =cross_val_score(pipe, X_train, y_train, scoring='neg_mean_absolute_error')"
   ]
  },
  {
   "cell_type": "code",
   "execution_count": 43,
   "metadata": {
    "colab": {
     "base_uri": "https://localhost:8080/"
    },
    "id": "G7fkUolJifYx",
    "outputId": "d9470f98-6fd1-41a4-fbbd-bff59571e0f6"
   },
   "outputs": [
    {
     "data": {
      "text/plain": [
       "array([-0.10790456, -0.10402988, -0.10756417])"
      ]
     },
     "execution_count": 43,
     "metadata": {},
     "output_type": "execute_result"
    }
   ],
   "source": [
    "scores"
   ]
  },
  {
   "cell_type": "code",
   "execution_count": 44,
   "metadata": {
    "colab": {
     "base_uri": "https://localhost:8080/"
    },
    "id": "yNvL6Xc7tVwd",
    "outputId": "e9bdf2cb-728f-4586-9423-ac2ce16f3f99"
   },
   "outputs": [
    {
     "data": {
      "text/plain": [
       "array([-0.95967307, -0.95544263, -0.96094106])"
      ]
     },
     "execution_count": 44,
     "metadata": {},
     "output_type": "execute_result"
    }
   ],
   "source": [
    "preprocessor = make_pipeline(\n",
    "    #SimpleImputer(strategy = 'median'),\n",
    "    #PowerTransformer(method = 'yeo-johnson', standardize = False),\n",
    "    StandardScaler()\n",
    "    #RobustScaler()\n",
    ")\n",
    "\n",
    "pipe = Pipeline(steps = [\n",
    "        ('preprocessor', preprocessor),\n",
    "        ('regressor', LinearRegression())\n",
    "    ])\n",
    "scores =cross_val_score(pipe, X_train, y_train, scoring='neg_mean_absolute_error')\n",
    "scores"
   ]
  },
  {
   "cell_type": "code",
   "execution_count": 45,
   "metadata": {
    "colab": {
     "base_uri": "https://localhost:8080/"
    },
    "id": "wHZy29fZs2yg",
    "outputId": "e75b9914-fb50-4738-9d98-42cf2506840c"
   },
   "outputs": [
    {
     "data": {
      "text/plain": [
       "array([-1.40124444, -1.39696462, -1.39145568])"
      ]
     },
     "execution_count": 45,
     "metadata": {},
     "output_type": "execute_result"
    }
   ],
   "source": [
    "preprocessor = make_pipeline(\n",
    "    #SimpleImputer(strategy = 'median'),\n",
    "    #PowerTransformer(method = 'yeo-johnson', standardize = False),\n",
    "    StandardScaler()\n",
    "    #RobustScaler()\n",
    ")\n",
    "\n",
    "pipe = Pipeline(steps = [\n",
    "        ('preprocessor', preprocessor),\n",
    "        ('regressor', Lasso(alpha=.5))\n",
    "    ])\n",
    "scores =cross_val_score(pipe, X_train, y_train, scoring='neg_mean_absolute_error')\n",
    "scores"
   ]
  },
  {
   "cell_type": "code",
   "execution_count": 46,
   "metadata": {
    "colab": {
     "base_uri": "https://localhost:8080/"
    },
    "id": "lQpp5VWJtXsx",
    "outputId": "5ed29a3a-bab3-4019-db85-dd1861e511f8"
   },
   "outputs": [
    {
     "data": {
      "text/plain": [
       "array([-0.95832858, -0.9535671 , -0.95954352])"
      ]
     },
     "execution_count": 46,
     "metadata": {},
     "output_type": "execute_result"
    }
   ],
   "source": [
    "preprocessor = make_pipeline(\n",
    "    #SimpleImputer(strategy = 'median'),\n",
    "    #PowerTransformer(method = 'yeo-johnson', standardize = False),\n",
    "    StandardScaler()\n",
    "    #RobustScaler()\n",
    ")\n",
    "\n",
    "pipe = Pipeline(steps = [\n",
    "        ('preprocessor', preprocessor),\n",
    "        ('regressor', Ridge(alpha=.1))\n",
    "    ])\n",
    "scores =cross_val_score(pipe, X_train, y_train, scoring='neg_mean_absolute_error')\n",
    "scores\n"
   ]
  },
  {
   "cell_type": "code",
   "execution_count": 47,
   "metadata": {
    "colab": {
     "base_uri": "https://localhost:8080/"
    },
    "id": "qUsuBanmtpEF",
    "outputId": "4103bfdf-7620-4407-f46b-da31545e8819"
   },
   "outputs": [
    {
     "data": {
      "text/plain": [
       "array([-8.14340698, -8.1433535 , -8.16390637])"
      ]
     },
     "execution_count": 47,
     "metadata": {},
     "output_type": "execute_result"
    }
   ],
   "source": [
    "preprocessor = make_pipeline(\n",
    "    #SimpleImputer(strategy = 'median'),\n",
    "    #PowerTransformer(method = 'yeo-johnson', standardize = False),\n",
    "    StandardScaler()\n",
    "    #RobustScaler()\n",
    ")\n",
    "\n",
    "pipe = Pipeline(steps = [\n",
    "        ('preprocessor', preprocessor),\n",
    "        ('regressor', LassoLars(alpha=.1))\n",
    "    ])\n",
    "scores =cross_val_score(pipe, X_train, y_train, scoring='neg_mean_absolute_error')\n",
    "scores"
   ]
  },
  {
   "cell_type": "code",
   "execution_count": 48,
   "metadata": {
    "colab": {
     "base_uri": "https://localhost:8080/"
    },
    "id": "B-gm33Q4tpff",
    "outputId": "5e86e90e-d655-4541-8095-563e22a374e9"
   },
   "outputs": [
    {
     "data": {
      "text/plain": [
       "array([-0.01751784, -0.01698054, -0.01691315])"
      ]
     },
     "execution_count": 48,
     "metadata": {},
     "output_type": "execute_result"
    }
   ],
   "source": [
    "preprocessor = make_pipeline(\n",
    "    #SimpleImputer(strategy = 'median'),\n",
    "    #PowerTransformer(method = 'yeo-johnson', standardize = False),\n",
    "    StandardScaler()\n",
    "    #RobustScaler()\n",
    ")\n",
    "\n",
    "pipe = Pipeline(steps = [\n",
    "        ('preprocessor', preprocessor),\n",
    "        ('regressor', DecisionTreeRegressor())\n",
    "    ])\n",
    "scores =cross_val_score(pipe, X_train, y_train, scoring='neg_mean_absolute_error')\n",
    "scores\n"
   ]
  },
  {
   "cell_type": "code",
   "execution_count": 49,
   "metadata": {
    "colab": {
     "base_uri": "https://localhost:8080/"
    },
    "id": "SUMtu3e3tpke",
    "outputId": "a0cca6aa-eb0e-4990-d481-352d77170fc8"
   },
   "outputs": [
    {
     "data": {
      "text/plain": [
       "array([-0.01302607, -0.01326315, -0.01326333])"
      ]
     },
     "execution_count": 49,
     "metadata": {},
     "output_type": "execute_result"
    }
   ],
   "source": [
    "preprocessor = make_pipeline(\n",
    "    #SimpleImputer(strategy = 'median'),\n",
    "    #PowerTransformer(method = 'yeo-johnson', standardize = False),\n",
    "    StandardScaler()\n",
    "    #RobustScaler()\n",
    ")\n",
    "\n",
    "pipe = Pipeline(steps = [\n",
    "        ('preprocessor', preprocessor),\n",
    "        ('regressor', RandomForestRegressor())\n",
    "    ])\n",
    "scores =cross_val_score(pipe, X_train, y_train, scoring='neg_mean_absolute_error')\n",
    "scores\n"
   ]
  },
  {
   "cell_type": "code",
   "execution_count": 50,
   "metadata": {
    "colab": {
     "base_uri": "https://localhost:8080/"
    },
    "id": "uhF8Ihk4t2AK",
    "outputId": "3479e91d-665f-42d4-ea8f-59f6499e68c6"
   },
   "outputs": [
    {
     "data": {
      "text/plain": [
       "array([-1.46247305, -1.40964135, -1.45542329])"
      ]
     },
     "execution_count": 50,
     "metadata": {},
     "output_type": "execute_result"
    }
   ],
   "source": [
    "preprocessor = make_pipeline(\n",
    "    #SimpleImputer(strategy = 'median'),\n",
    "    #PowerTransformer(method = 'yeo-johnson', standardize = False),\n",
    "    StandardScaler()\n",
    "    #RobustScaler()\n",
    ")\n",
    "\n",
    "pipe = Pipeline(steps = [\n",
    "        ('preprocessor', preprocessor),\n",
    "        ('regressor', AdaBoostRegressor())\n",
    "    ])\n",
    "scores =cross_val_score(pipe, X_train, y_train, scoring='neg_mean_absolute_error')\n",
    "scores"
   ]
  },
  {
   "cell_type": "code",
   "execution_count": 51,
   "metadata": {
    "colab": {
     "base_uri": "https://localhost:8080/"
    },
    "id": "nZAh-kWGt9BB",
    "outputId": "229cc0a6-d268-4533-8c4d-9c7113f5580f"
   },
   "outputs": [
    {
     "data": {
      "text/plain": [
       "array([-1.49436922, -1.48549811, -1.45849196])"
      ]
     },
     "execution_count": 51,
     "metadata": {},
     "output_type": "execute_result"
    }
   ],
   "source": [
    "preprocessor = make_pipeline(\n",
    "    #SimpleImputer(strategy = 'median'),\n",
    "    #PowerTransformer(method = 'yeo-johnson', standardize = False),\n",
    "    StandardScaler()\n",
    "    #RobustScaler()\n",
    ")\n",
    "\n",
    "pipe = Pipeline(steps = [\n",
    "        ('preprocessor', preprocessor),\n",
    "        ('regressor', AdaBoostRegressor())\n",
    "    ])\n",
    "scores =cross_val_score(pipe, X_train, y_train, scoring='neg_mean_absolute_error')\n",
    "scores"
   ]
  },
  {
   "cell_type": "code",
   "execution_count": 52,
   "metadata": {
    "colab": {
     "base_uri": "https://localhost:8080/"
    },
    "id": "MhmbppQgt_Im",
    "outputId": "84f76bb3-7b58-4884-ff6d-683cd0e2bb78"
   },
   "outputs": [
    {
     "data": {
      "text/plain": [
       "array([-0.36284992, -0.35795512, -0.3611889 ])"
      ]
     },
     "execution_count": 52,
     "metadata": {},
     "output_type": "execute_result"
    }
   ],
   "source": [
    "preprocessor = make_pipeline(\n",
    "    #SimpleImputer(strategy = 'median'),\n",
    "    #PowerTransformer(method = 'yeo-johnson', standardize = False),\n",
    "    StandardScaler()\n",
    "    #RobustScaler()\n",
    ")\n",
    "\n",
    "pipe = Pipeline(steps = [\n",
    "        ('preprocessor', preprocessor),\n",
    "        ('regressor', GradientBoostingRegressor())\n",
    "    ])\n",
    "scores =cross_val_score(pipe, X_train, y_train, scoring='neg_mean_absolute_error')\n",
    "scores\n"
   ]
  },
  {
   "cell_type": "code",
   "execution_count": null,
   "metadata": {
    "id": "ICBxJ_cRtnna"
   },
   "outputs": [],
   "source": []
  },
  {
   "cell_type": "code",
   "execution_count": null,
   "metadata": {
    "id": "M_YjdmkHi7W_"
   },
   "outputs": [],
   "source": []
  }
 ],
 "metadata": {
  "accelerator": "GPU",
  "colab": {
   "name": "Hackathon.ipynb",
   "provenance": []
  },
  "kernelspec": {
   "display_name": "Python 3",
   "language": "python",
   "name": "python3"
  },
  "language_info": {
   "codemirror_mode": {
    "name": "ipython",
    "version": 3
   },
   "file_extension": ".py",
   "mimetype": "text/x-python",
   "name": "python",
   "nbconvert_exporter": "python",
   "pygments_lexer": "ipython3",
   "version": "3.7.4"
  }
 },
 "nbformat": 4,
 "nbformat_minor": 1
}
